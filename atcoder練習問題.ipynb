{
 "cells": [
  {
   "cell_type": "markdown",
   "metadata": {},
   "source": [
    "https://atcoder.jp/contests/abc104/tasks/abc104_a"
   ]
  },
  {
   "cell_type": "code",
   "execution_count": null,
   "metadata": {},
   "outputs": [],
   "source": [
    "r = int(input())\n",
    "if r < 1200:\n",
    "    x = 'ABC'\n",
    "elif r < 2800:\n",
    "    x = 'ARC'\n",
    "else:\n",
    "    x = 'AGC'\n",
    "print(x)"
   ]
  },
  {
   "cell_type": "code",
   "execution_count": null,
   "metadata": {},
   "outputs": [],
   "source": [
    "print([\"ABC\",\"ARC\",\"AGC\"][int(input())//50+8>>5])"
   ]
  },
  {
   "cell_type": "markdown",
   "metadata": {},
   "source": [
    "https://atcoder.jp/contests/abc108/tasks/abc108_a"
   ]
  },
  {
   "cell_type": "code",
   "execution_count": null,
   "metadata": {},
   "outputs": [],
   "source": [
    "print(int(input())**2>>2)"
   ]
  },
  {
   "cell_type": "markdown",
   "metadata": {},
   "source": [
    "https://atcoder.jp/contests/abc006/tasks/abc006_2"
   ]
  },
  {
   "cell_type": "code",
   "execution_count": null,
   "metadata": {},
   "outputs": [],
   "source": [
    "a,b,c=0,0,1\n",
    "for i in range(int(input())-1):\n",
    "    a,b,c=b,c,(a+b+c)%10007\n",
    "print(a)"
   ]
  },
  {
   "cell_type": "markdown",
   "metadata": {},
   "source": [
    "https://atcoder.jp/contests/abc119/tasks/abc119_a"
   ]
  },
  {
   "cell_type": "code",
   "execution_count": null,
   "metadata": {},
   "outputs": [],
   "source": [
    "print('Heisei' if input() <= '2019/04/30' else 'TBD')"
   ]
  },
  {
   "cell_type": "code",
   "execution_count": null,
   "metadata": {},
   "outputs": [],
   "source": [
    "print('2019/1/3'<'2019/2/3')"
   ]
  },
  {
   "cell_type": "markdown",
   "metadata": {},
   "source": [
    "## うるう年\n",
    "https://atcoder.jp/contests/arc002/tasks/arc002_1"
   ]
  },
  {
   "cell_type": "markdown",
   "metadata": {},
   "source": [
    "規則  \n",
    "4で割り切れる年はうるう年である。  \n",
    "規則 2  \n",
    "100で割り切れる年をうるう年ではない。  \n",
    "規則 3  \n",
    "400で割り切れる年はうるう年である。  \n",
    "規則 4  \n",
    "規則 1〜3のいずれも満たさない場合は，うるう年ではありません。"
   ]
  },
  {
   "cell_type": "code",
   "execution_count": null,
   "metadata": {},
   "outputs": [],
   "source": [
    "y = int(input())\n",
    "print('YES' if y%4==0 and y%100!=0 or y%400==0 else 'NO')"
   ]
  },
  {
   "cell_type": "markdown",
   "metadata": {},
   "source": [
    "## ディスプレイ\n",
    "https://atcoder.jp/contests/abc038/tasks/abc038_b"
   ]
  },
  {
   "cell_type": "code",
   "execution_count": null,
   "metadata": {
    "scrolled": true
   },
   "outputs": [],
   "source": [
    "h1, w1 = map(int, input().split())\n",
    "h2, w2 = map(int, input().split())\n",
    "print('YES' if h1==h2 or h1==w2 or w1==h2 or w1==w2 else 'NO')"
   ]
  },
  {
   "cell_type": "markdown",
   "metadata": {},
   "source": [
    "## Cats and Dogs\n",
    "https://atcoder.jp/contests/abc094/tasks/abc094_a"
   ]
  },
  {
   "cell_type": "code",
   "execution_count": null,
   "metadata": {},
   "outputs": [],
   "source": [
    "a, b, x = map(int, input().split())\n",
    "print('YES' if a==x or a+b>=x and a<=x else 'NO')"
   ]
  },
  {
   "cell_type": "markdown",
   "metadata": {},
   "source": [
    "## Colorful Transceivers\n",
    "https://atcoder.jp/contests/abc097/tasks/abc097_a"
   ]
  },
  {
   "cell_type": "code",
   "execution_count": null,
   "metadata": {},
   "outputs": [],
   "source": [
    "a, b, c, d = map(int, input().split())\n",
    "print('Yes' if abs(b-a)<=d and abs(b-c)<=d or abs(a-c)<=d else 'No')"
   ]
  },
  {
   "cell_type": "markdown",
   "metadata": {},
   "source": [
    "## Happy Birthday!\n",
    "https://atcoder.jp/contests/abc100/tasks/abc100_a"
   ]
  },
  {
   "cell_type": "code",
   "execution_count": null,
   "metadata": {
    "scrolled": true
   },
   "outputs": [],
   "source": [
    "a, b = map(int, input().split())\n",
    "print('Yay!' if a<=8 and b<=8 else ':(')"
   ]
  },
  {
   "cell_type": "markdown",
   "metadata": {},
   "source": [
    "## On the Way\n",
    "https://atcoder.jp/contests/tenka1-2019-beginner/tasks/tenka1_2019_a"
   ]
  },
  {
   "cell_type": "code",
   "execution_count": null,
   "metadata": {},
   "outputs": [],
   "source": [
    "a, b, c = map(int, input().split())\n",
    "print('Yes' if (a>c and b<c) or (a<c and b>c) else 'No' )"
   ]
  },
  {
   "cell_type": "code",
   "execution_count": null,
   "metadata": {},
   "outputs": [],
   "source": [
    "a, b, c = map(int, input().split())\n",
    "print('Yes' if a<c<b or b<c<a else 'No')"
   ]
  },
  {
   "cell_type": "markdown",
   "metadata": {},
   "source": [
    "# 1.8 条件式"
   ]
  },
  {
   "cell_type": "markdown",
   "metadata": {},
   "source": [
    "## A±B Problem\n",
    "https://atcoder.jp/contests/abc016/tasks/abc016_2"
   ]
  },
  {
   "cell_type": "code",
   "execution_count": null,
   "metadata": {},
   "outputs": [],
   "source": [
    "a, b, c = map(int, input().split())\n",
    "p = a+b\n",
    "m = a-b\n",
    "if p==m==c:\n",
    "    x = '?'\n",
    "elif p==c:\n",
    "    x = '+'\n",
    "elif m==c:\n",
    "    x = '-'\n",
    "else:\n",
    "    x = '!'\n",
    "print(x)"
   ]
  },
  {
   "cell_type": "code",
   "execution_count": null,
   "metadata": {},
   "outputs": [],
   "source": [
    "a, b, c = map(int, input().split())\n",
    "print('?' if a+b==c and a-b==c else '+' if a+b==c else '-' if a-b==c else '!')"
   ]
  },
  {
   "cell_type": "markdown",
   "metadata": {},
   "source": [
    "## Comparison\n",
    "https://atcoder.jp/contests/abc059/tasks/abc059_b"
   ]
  },
  {
   "cell_type": "code",
   "execution_count": null,
   "metadata": {},
   "outputs": [],
   "source": [
    "a, b = [int(input()) for _ in range(2)]\n",
    "print('GREATER' if a>b else 'LESS' if a<b else 'EQUAL')"
   ]
  },
  {
   "cell_type": "markdown",
   "metadata": {},
   "source": [
    "# <u>if/break/else文<u>"
   ]
  },
  {
   "cell_type": "markdown",
   "metadata": {},
   "source": [
    "## 名刺交換\n",
    "https://atcoder.jp/contests/arc010/tasks/arc010_1"
   ]
  },
  {
   "cell_type": "code",
   "execution_count": null,
   "metadata": {},
   "outputs": [],
   "source": [
    "n, m, a, b = map(int, input().split())\n",
    "for i in range(m):\n",
    "    if n > a:\n",
    "        n -= int(input())\n",
    "    else:\n",
    "        n += b\n",
    "        n -= int(input())\n",
    "    if n < 0:\n",
    "        break\n",
    "if i + 1 == m and n >= 0:\n",
    "    print('complete')\n",
    "else:\n",
    "    print(i + 1)"
   ]
  },
  {
   "cell_type": "code",
   "execution_count": null,
   "metadata": {},
   "outputs": [],
   "source": [
    "# breakでループを抜けなかった場合elseが実行される。\n",
    "n, m, a, b = map(int, input().split())\n",
    "for i in range(m):\n",
    "    if n <= a:\n",
    "        n += b\n",
    "    n -= int(input())\n",
    "    if n < 0:\n",
    "        print(i + 1)\n",
    "        break\n",
    "else:\n",
    "    print('complete')"
   ]
  },
  {
   "cell_type": "markdown",
   "metadata": {},
   "source": [
    "## C - 数式の書き換え\n",
    "https://atcoder.jp/contests/abc033/tasks/abc033_c"
   ]
  },
  {
   "cell_type": "code",
   "execution_count": null,
   "metadata": {},
   "outputs": [],
   "source": [
    "S = map(str, input().split('+'))\n",
    "ans = 0\n",
    "for s in S:\n",
    "    if '0' not in s:\n",
    "        ans += 1\n",
    "print(ans)"
   ]
  },
  {
   "cell_type": "markdown",
   "metadata": {},
   "source": [
    "## [B - カキ](https://atcoder.jp/contests/abc029/tasks/abc029_b)"
   ]
  },
  {
   "cell_type": "code",
   "execution_count": null,
   "metadata": {
    "scrolled": true
   },
   "outputs": [],
   "source": [
    "s = [input() for _ in range(12)]\n",
    "x = 0\n",
    "for i in s:\n",
    "    if 'r' in i:\n",
    "        x += 1\n",
    "print(x)"
   ]
  },
  {
   "cell_type": "markdown",
   "metadata": {},
   "source": [
    "## [B - Hina Arare](https://atcoder.jp/contests/abc089/tasks/abc089_b)"
   ]
  },
  {
   "cell_type": "code",
   "execution_count": null,
   "metadata": {},
   "outputs": [],
   "source": [
    "n = int(input())\n",
    "c = list(map(str, input().split()))\n",
    "print('Three' if len(set(c))==3 else 'Four')"
   ]
  },
  {
   "cell_type": "code",
   "execution_count": null,
   "metadata": {},
   "outputs": [],
   "source": [
    "input()\n",
    "print('Four' if 'Y' in input() else 'Three')"
   ]
  }
 ],
 "metadata": {
  "kernelspec": {
   "display_name": "Python 3",
   "language": "python",
   "name": "python3"
  },
  "language_info": {
   "codemirror_mode": {
    "name": "ipython",
    "version": 3
   },
   "file_extension": ".py",
   "mimetype": "text/x-python",
   "name": "python",
   "nbconvert_exporter": "python",
   "pygments_lexer": "ipython3",
   "version": "3.7.6"
  }
 },
 "nbformat": 4,
 "nbformat_minor": 2
}
