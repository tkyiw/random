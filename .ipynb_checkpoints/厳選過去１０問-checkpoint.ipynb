{
 "cells": [
  {
   "cell_type": "markdown",
   "metadata": {},
   "source": [
    "# [AtCoderに登録したら解くべき精選過去問10問をPythonで解いてみた](https://qiita.com/KoyanagiHitoshi/items/c5e82841b8d0f750851d)"
   ]
  },
  {
   "cell_type": "markdown",
   "metadata": {},
   "source": [
    "# [第1問 ABC 086 A - Product](https://atcoder.jp/contests/abc086/tasks/abc086_a)"
   ]
  },
  {
   "cell_type": "code",
   "execution_count": null,
   "metadata": {},
   "outputs": [],
   "source": [
    "a, b = map(int, input().split())\n",
    "print('Odd' if a * b % 2 else 'Even')"
   ]
  },
  {
   "cell_type": "markdown",
   "metadata": {},
   "source": [
    "# [第2問 ABC 081 A - Placing Marbles](https://atcoder.jp/contests/abc081/tasks/abc081_a)"
   ]
  },
  {
   "cell_type": "code",
   "execution_count": null,
   "metadata": {},
   "outputs": [],
   "source": [
    "x = input()\n",
    "y = 0\n",
    "for i in x:\n",
    "    y += int(i)\n",
    "print(y)"
   ]
  },
  {
   "cell_type": "code",
   "execution_count": null,
   "metadata": {},
   "outputs": [],
   "source": [
    "print(sum([int(i) for i in input()]))"
   ]
  },
  {
   "cell_type": "code",
   "execution_count": null,
   "metadata": {},
   "outputs": [],
   "source": [
    "print(int(input())%9)"
   ]
  },
  {
   "cell_type": "markdown",
   "metadata": {},
   "source": [
    "# [第3問 ABC 081 B - Shift only](https://atcoder.jp/contests/abc081/tasks/abc081_b)"
   ]
  },
  {
   "cell_type": "code",
   "execution_count": null,
   "metadata": {},
   "outputs": [],
   "source": [
    "input()\n",
    "A = map(int, input().split())\n",
    "count = 0\n",
    "while all(a % 2 == 0 for a in A):\n",
    "    A = [a / 2 for a in A]\n",
    "    count += 1\n",
    "print(count)\n",
    "\n",
    "# 解説\n",
    "# all()は引数に指定したイテラブルオブジェクトの要素がすべてTrueと判定されるとTrueを返す。一つでもFalseがあればFalse。"
   ]
  },
  {
   "cell_type": "markdown",
   "metadata": {},
   "source": [
    "# [第4問 ABC 087 B - Coins](https://atcoder.jp/contests/abc087/tasks/abc087_b)"
   ]
  },
  {
   "cell_type": "code",
   "execution_count": null,
   "metadata": {},
   "outputs": [],
   "source": [
    "A, B, C, X = [int(input()) for _ in range(4)]\n",
    "l = []\n",
    "for a in range(A + 1):\n",
    "    for b in range(B + 1):\n",
    "        for c in range(C + 1):\n",
    "            y.append(500 * a + 100 * b + 50 * c)\n",
    "print(l.count(X))"
   ]
  },
  {
   "cell_type": "code",
   "execution_count": null,
   "metadata": {},
   "outputs": [],
   "source": [
    "A, B, C, X = [int(input()) for _ in range(4)]\n",
    "print([500 * a + 100 * b + 50 * c for c in range(C + 1) for b in range(B + 1) for a in range(A + 1)].count(X))"
   ]
  },
  {
   "cell_type": "markdown",
   "metadata": {},
   "source": [
    "# [第5問 ABC 083 B - Some Sums](https://atcoder.jp/contests/abc083/tasks/abc083_b)"
   ]
  },
  {
   "cell_type": "code",
   "execution_count": null,
   "metadata": {},
   "outputs": [],
   "source": [
    "N, A, B = map(int, input().split())\n",
    "\n",
    "l = []\n",
    "for i in range(1, N + 1):\n",
    "    if A <= sum(map(int, str(i))) <= B:\n",
    "        l.append(i)\n",
    "\n",
    "print(sum(l))"
   ]
  },
  {
   "cell_type": "code",
   "execution_count": null,
   "metadata": {},
   "outputs": [],
   "source": [
    "N, A, B = map(int, input().split())\n",
    "print(sum(i for i in range(1, N + 1) if A <= sum(map(int, str(i))) <= B))"
   ]
  },
  {
   "cell_type": "markdown",
   "metadata": {},
   "source": [
    "# [第6問 ABC 088 B - Card Game for Two](https://atcoder.jp/contests/abc088/tasks/abc088_b)"
   ]
  },
  {
   "cell_type": "code",
   "execution_count": null,
   "metadata": {},
   "outputs": [],
   "source": [
    "n = int(input())\n",
    "a = list(map(int, input().split()))\n",
    "x = []\n",
    "y = []\n",
    "for i, v in enumerate(sorted(a, reverse=True)):\n",
    "    if (i + 1) % 2 != 0:\n",
    "        x.append(v)\n",
    "    else:\n",
    "        y.append(v)\n",
    "print(sum(x) - sum(y))"
   ]
  },
  {
   "cell_type": "code",
   "execution_count": null,
   "metadata": {},
   "outputs": [],
   "source": [
    "input()\n",
    "a = sorted(map(int, input().split()))[::-1]\n",
    "print(sum(a[::2]) - sum(a[1::2]))"
   ]
  },
  {
   "cell_type": "markdown",
   "metadata": {},
   "source": [
    "# [第7問 ABC 085 B - Kagami Mochi](https://atcoder.jp/contests/abc085/tasks/abc085_b)"
   ]
  },
  {
   "cell_type": "code",
   "execution_count": null,
   "metadata": {},
   "outputs": [],
   "source": [
    "print(len(set([int(input()) for _ in range(int(input()))])))"
   ]
  },
  {
   "cell_type": "markdown",
   "metadata": {},
   "source": [
    "# [第8問 ABC 085 C - Otoshidama](https://atcoder.jp/contests/abc085/tasks/abc085_c)"
   ]
  },
  {
   "cell_type": "code",
   "execution_count": null,
   "metadata": {},
   "outputs": [],
   "source": []
  }
 ],
 "metadata": {
  "kernelspec": {
   "display_name": "Python 3",
   "language": "python",
   "name": "python3"
  },
  "language_info": {
   "codemirror_mode": {
    "name": "ipython",
    "version": 3
   },
   "file_extension": ".py",
   "mimetype": "text/x-python",
   "name": "python",
   "nbconvert_exporter": "python",
   "pygments_lexer": "ipython3",
   "version": "3.7.6"
  }
 },
 "nbformat": 4,
 "nbformat_minor": 2
}
