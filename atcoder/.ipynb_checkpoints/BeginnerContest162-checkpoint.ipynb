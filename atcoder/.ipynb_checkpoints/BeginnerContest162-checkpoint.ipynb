{
 "cells": [
  {
   "cell_type": "markdown",
   "metadata": {},
   "source": [
    "# [A - Lucky 7](https://atcoder.jp/contests/abc162/tasks/abc162_a)"
   ]
  },
  {
   "cell_type": "code",
   "execution_count": null,
   "metadata": {},
   "outputs": [],
   "source": [
    "print('Yes' if '7' in input() else 'No')"
   ]
  },
  {
   "cell_type": "code",
   "execution_count": null,
   "metadata": {},
   "outputs": [],
   "source": [
    "print('NYoe s'['7' in input()::2])"
   ]
  },
  {
   "cell_type": "markdown",
   "metadata": {},
   "source": [
    "# [B - FizzBuzz Sum](https://atcoder.jp/contests/abc162/tasks/abc162_b)"
   ]
  },
  {
   "cell_type": "code",
   "execution_count": null,
   "metadata": {},
   "outputs": [],
   "source": [
    "n = int(input())\n",
    "x = 0\n",
    "for i in range(1, n+1):\n",
    "    if i%3 and i%5:\n",
    "        x+=i\n",
    "print(x)"
   ]
  },
  {
   "cell_type": "code",
   "execution_count": null,
   "metadata": {},
   "outputs": [],
   "source": [
    "print(sum(i for i in range(1,int(input())+1)if i%3 and i%5))"
   ]
  },
  {
   "cell_type": "markdown",
   "metadata": {},
   "source": [
    "# [C - Sum of gcd of Tuples (Easy)](https://atcoder.jp/contests/abc162/tasks/abc162_c)"
   ]
  },
  {
   "cell_type": "code",
   "execution_count": null,
   "metadata": {},
   "outputs": [],
   "source": [
    "from math import gcd\n",
    "n = int(input())+1\n",
    "x = 0\n",
    "for i in range(1,n):\n",
    "  for j in range(1,n):\n",
    "    for k in range(1,n):\n",
    "      x+=gcd(i,gcd(j,k))\n",
    "print(x)"
   ]
  },
  {
   "cell_type": "markdown",
   "metadata": {},
   "source": [
    "# [D - RGB Triplets](https://atcoder.jp/contests/abc162/tasks/abc162_d)"
   ]
  },
  {
   "cell_type": "code",
   "execution_count": null,
   "metadata": {},
   "outputs": [],
   "source": [
    "n = int(input())\n",
    "s = input()\n",
    " \n",
    "r_cnt = s.count('R')\n",
    "g_cnt = s.count('G')\n",
    "b_cnt = s.count('B')\n",
    " \n",
    "ans = r_cnt * g_cnt * b_cnt\n",
    " \n",
    "for i in range(n):\n",
    "    for d in range(n):\n",
    "        j = i + d\n",
    "        k = j + d\n",
    "        if k >= n:break\n",
    "        if s[i] != s[j] and s[j] != s[k] and s[k] != s[i]:\n",
    "            ans -= 1\n",
    " \n",
    "print(ans)"
   ]
  },
  {
   "cell_type": "markdown",
   "metadata": {},
   "source": [
    "# [E - Sum of gcd of Tuples (Hard)](https://atcoder.jp/contests/abc162/tasks/abc162_e)"
   ]
  },
  {
   "cell_type": "code",
   "execution_count": null,
   "metadata": {},
   "outputs": [],
   "source": [
    "import sys\n",
    "input = sys.stdin.readline\n",
    " \n",
    "N,K=map(int,input().split())\n",
    "mod=10**9+7\n",
    " \n",
    "L=[i for i in range(K+1)]\n",
    " \n",
    "for i in range(1,K):\n",
    "    for j in range(i*2,K+1,i):\n",
    "        L[j]-=L[i]\n",
    " \n",
    "ANS=0\n",
    "for i in range(1,K+1):\n",
    "    ANS=(ANS+pow(K//i,N,mod)*L[i])%mod\n",
    " \n",
    "print(ANS)"
   ]
  },
  {
   "cell_type": "markdown",
   "metadata": {},
   "source": [
    "# [F - Select Half](https://atcoder.jp/contests/abc162/tasks/abc162_f)"
   ]
  },
  {
   "cell_type": "code",
   "execution_count": null,
   "metadata": {},
   "outputs": [],
   "source": [
    "N = int(input())\n",
    "A = list(map(int, input().split()))\n",
    " \n",
    "dp_g = A[1]\n",
    "dp_k = A[0]\n",
    "dp = [0, max(dp_g, dp_k)]\n",
    " \n",
    "for i in range(2, N):\n",
    "    if i % 2 == 1:\n",
    "        dp_g = max(dp_k, dp_g) + A[i]\n",
    "        dp_k += A[i - 1]\n",
    "        dp.append(max(dp_g, dp_k))\n",
    "    elif i % 2 == 0:\n",
    "        dp.append(max(dp[i - 1], dp[i - 2] + A[i]))\n",
    " \n",
    "print(dp[N - 1])"
   ]
  }
 ],
 "metadata": {
  "kernelspec": {
   "display_name": "Python 3",
   "language": "python",
   "name": "python3"
  },
  "language_info": {
   "codemirror_mode": {
    "name": "ipython",
    "version": 3
   },
   "file_extension": ".py",
   "mimetype": "text/x-python",
   "name": "python",
   "nbconvert_exporter": "python",
   "pygments_lexer": "ipython3",
   "version": "3.7.6"
  }
 },
 "nbformat": 4,
 "nbformat_minor": 2
}
